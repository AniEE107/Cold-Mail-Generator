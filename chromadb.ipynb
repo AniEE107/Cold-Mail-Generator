{
 "cells": [
  {
   "cell_type": "code",
   "execution_count": 6,
   "id": "5d2941b3-7996-4682-a3ae-12705962ad91",
   "metadata": {},
   "outputs": [],
   "source": [
    "import chromadb \n",
    "from chromadb.config import Settings\n",
    "client = chromadb.Client()\n",
    "collection = client.create_collection(name=\"My_collection_v6\")"
   ]
  },
  {
   "cell_type": "code",
   "execution_count": 7,
   "id": "43ce35d5-fd28-41e1-b642-7c4a6dd68c0a",
   "metadata": {},
   "outputs": [],
   "source": [
    "client.delete_collection(\"My_collection_v5\")\n",
    "collection = client.create_collection(name=\"My_collection_v5\")"
   ]
  },
  {
   "cell_type": "code",
   "execution_count": 8,
   "id": "077bf71e-ae28-4afd-ab7b-9053f4607dde",
   "metadata": {},
   "outputs": [],
   "source": [
    "collection.add(\n",
    "    documents=[\n",
    "        \"This documemnt is about New York\",\n",
    "        \"This document is about Delhi\"\n",
    "    ],\n",
    "    ids = ['id1' , 'id2']\n",
    ") "
   ]
  },
  {
   "cell_type": "code",
   "execution_count": 9,
   "id": "5e4456df-8488-4de7-ac48-a06052aa6c87",
   "metadata": {},
   "outputs": [
    {
     "name": "stdout",
     "output_type": "stream",
     "text": [
      "{'ids': ['id1', 'id2'], 'embeddings': None, 'documents': ['This documemnt is about New York', 'This document is about Delhi'], 'uris': None, 'included': ['metadatas', 'documents'], 'data': None, 'metadatas': [None, None]}\n"
     ]
    }
   ],
   "source": [
    "all_docs = collection.get()\n",
    "print(all_docs)"
   ]
  },
  {
   "cell_type": "code",
   "execution_count": 10,
   "id": "ee7a83f0-7b5c-4789-a22a-2a0a86c21af0",
   "metadata": {},
   "outputs": [
    {
     "data": {
      "text/plain": [
       "{'ids': [['id2', 'id1']],\n",
       " 'embeddings': None,\n",
       " 'documents': [['This document is about Delhi',\n",
       "   'This documemnt is about New York']],\n",
       " 'uris': None,\n",
       " 'included': ['metadatas', 'documents', 'distances'],\n",
       " 'data': None,\n",
       " 'metadatas': [[None, None]],\n",
       " 'distances': [[1.5176868438720703, 1.5260955095291138]]}"
      ]
     },
     "execution_count": 10,
     "metadata": {},
     "output_type": "execute_result"
    }
   ],
   "source": [
    "results = collection.query(\n",
    "    query_texts = ['Query is about air pollution'],\n",
    "    n_results = 2\n",
    ")\n",
    "results"
   ]
  },
  {
   "cell_type": "code",
   "execution_count": 11,
   "id": "7681eda2-92fa-4cde-930c-ba26cb635c17",
   "metadata": {},
   "outputs": [],
   "source": [
    "collection.add(\n",
    "    documents=[\n",
    "        \"This documemnt is about New York\",\n",
    "        \"This document is about Delhi\"\n",
    "    ],\n",
    "    ids = ['id1' , 'id2'] ,\n",
    "    metadatas=[\n",
    "        {\"url\": \"https://en.wikipedia.org/wiki/New_York_City\" } ,\n",
    "        {\"url\":\"https://en.wikipedia.org/wiki/Delhi\"}\n",
    "    ]\n",
    ") "
   ]
  },
  {
   "cell_type": "code",
   "execution_count": 12,
   "id": "5bcfda83-5005-46fc-865d-ce699b3f50b2",
   "metadata": {},
   "outputs": [
    {
     "data": {
      "text/plain": [
       "{'ids': [['id2', 'id1']],\n",
       " 'embeddings': None,\n",
       " 'documents': [['This document is about Delhi',\n",
       "   'This documemnt is about New York']],\n",
       " 'uris': None,\n",
       " 'included': ['metadatas', 'documents', 'distances'],\n",
       " 'data': None,\n",
       " 'metadatas': [[None, None]],\n",
       " 'distances': [[1.5588479042053223, 1.7917948961257935]]}"
      ]
     },
     "execution_count": 12,
     "metadata": {},
     "output_type": "execute_result"
    }
   ],
   "source": [
    "results = collection.query(\n",
    "    query_texts = ['Query is about Chhole Bhature'],\n",
    "    n_results = 2\n",
    ")\n",
    "results"
   ]
  },
  {
   "cell_type": "code",
   "execution_count": 42,
   "id": "f1686959-5104-4aa9-b66f-4f52b754781c",
   "metadata": {},
   "outputs": [],
   "source": []
  },
  {
   "cell_type": "code",
   "execution_count": null,
   "id": "7ef06d53-78d5-4e6b-8ab0-f15ca6d081f6",
   "metadata": {},
   "outputs": [],
   "source": []
  }
 ],
 "metadata": {
  "kernelspec": {
   "display_name": "Python 3 (ipykernel)",
   "language": "python",
   "name": "python3"
  },
  "language_info": {
   "codemirror_mode": {
    "name": "ipython",
    "version": 3
   },
   "file_extension": ".py",
   "mimetype": "text/x-python",
   "name": "python",
   "nbconvert_exporter": "python",
   "pygments_lexer": "ipython3",
   "version": "3.12.7"
  }
 },
 "nbformat": 4,
 "nbformat_minor": 5
}
