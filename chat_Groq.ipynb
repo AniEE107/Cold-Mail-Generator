{
 "cells": [
  {
   "cell_type": "code",
   "execution_count": null,
   "id": "d431d5a1-910d-4f01-aca7-ce257fefbcef",
   "metadata": {},
   "outputs": [],
   "source": [
    "'<add your API key here.>'"
   ]
  },
  {
   "cell_type": "code",
   "execution_count": 10,
   "id": "9f711c7e-e97b-432a-ac7d-6fa2e6c371f4",
   "metadata": {},
   "outputs": [
    {
     "name": "stdout",
     "output_type": "stream",
     "text": [
      "Transformers are actually pretty cool devices, and I'd be happy to explain how they work in simple terms.\n",
      "\n",
      "**What is a Transformer?**\n",
      "\n",
      "A transformer is an electrical device that helps transfer energy from one circuit to another through electromagnetic induction. Yeah, that sounds complicated, but stick with me!\n",
      "\n",
      "**The Basics**\n",
      "\n",
      "Imagine you have two coils of wire, one wrapped around the other. These coils are called the primary coil and the secondary coil.\n",
      "\n",
      "**How it Works**\n",
      "\n",
      "Here's what happens when you apply electricity to the primary coil:\n",
      "\n",
      "1. **Magnetic Field**: When electricity flows through the primary coil, it creates a magnetic field around the coil. This magnetic field is like an invisible bubble that surrounds the coil.\n",
      "2. **Induction**: When the magnetic field changes (i.e., when the electricity flows), it induces an electromotive force (EMF) in the secondary coil. This means that the secondary coil starts to generate its own electricity!\n",
      "3. **Step-Up or Step-Down**: The magic happens because the number of turns in the primary coil is different from the number of turns in the secondary coil. This difference in turns determines whether the voltage (electricity) is increased (step-up) or decreased (step-down) in the secondary coil.\n",
      "\n",
      "**Example**\n",
      "\n",
      "Let's say you have a primary coil with 10 turns and a secondary coil with 20 turns. If you apply 10 volts to the primary coil, the secondary coil might generate 20 volts (step-up). This means you've increased the voltage without losing any power!\n",
      "\n",
      "**Real-World Applications**\n",
      "\n",
      "Transformers are used everywhere:\n",
      "\n",
      "* Power grids: to transmit high-voltage electricity over long distances and then step it down for safe household use\n",
      "* Electronic devices: to regulate voltage levels for devices like laptops and smartphones\n",
      "* Audio equipment: to match impedance levels for optimal sound quality\n",
      "\n",
      "In simple terms, transformers help transfer energy efficiently and safely by changing the voltage levels of electricity. Pretty cool, right?\n"
     ]
    }
   ],
   "source": [
    "from langchain_groq import ChatGroq\n",
    "from langchain_core.prompts import ChatPromptTemplate\n",
    "\n",
    "llm = ChatGroq(\n",
    "    model=\"llama3-70b-8192\",  # ✅ correct name\n",
    "    temperature=0.7,\n",
    "    max_tokens=1024,\n",
    "    max_retries=2\n",
    ")\n",
    "\n",
    "prompt = ChatPromptTemplate.from_messages([\n",
    "    (\"system\", \"You are an expert technical assistant.\"),\n",
    "    (\"user\", \"{input}\")\n",
    "])\n",
    "\n",
    "chain = prompt | llm\n",
    "\n",
    "response = chain.invoke({\"input\": \"Explain how transformers work in simple terms.\"})\n",
    "print(response.content)"
   ]
  },
  {
   "cell_type": "code",
   "execution_count": null,
   "id": "a873286f-eb0b-46eb-9f59-285189d1753b",
   "metadata": {},
   "outputs": [],
   "source": []
  }
 ],
 "metadata": {
  "kernelspec": {
   "display_name": "Python 3 (ipykernel)",
   "language": "python",
   "name": "python3"
  },
  "language_info": {
   "codemirror_mode": {
    "name": "ipython",
    "version": 3
   },
   "file_extension": ".py",
   "mimetype": "text/x-python",
   "name": "python",
   "nbconvert_exporter": "python",
   "pygments_lexer": "ipython3",
   "version": "3.12.7"
  }
 },
 "nbformat": 4,
 "nbformat_minor": 5
}
